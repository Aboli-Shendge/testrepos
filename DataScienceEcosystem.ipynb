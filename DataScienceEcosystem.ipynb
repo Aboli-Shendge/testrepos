{
 "cells": [
  {
   "cell_type": "markdown",
   "id": "74797975-3375-45a7-bab3-81169532da3c",
   "metadata": {},
   "source": [
    "Data Science Tools and Ecosystem"
   ]
  },
  {
   "cell_type": "markdown",
   "id": "742ed36a-af66-40ac-aa8e-2158791299ff",
   "metadata": {},
   "source": [
    "In this notebook, Data Science Tools and Ecosystem are summarized"
   ]
  },
  {
   "cell_type": "code",
   "execution_count": 4,
   "id": "60160212-fd9e-405c-bbef-3292b26162b3",
   "metadata": {},
   "outputs": [
    {
     "name": "stdout",
     "output_type": "stream",
     "text": [
      "['Python', 'R', 'SQL', 'Julia']\n"
     ]
    }
   ],
   "source": [
    "#Some of the popular languages that Data Scientists use are:\n",
    "\n",
    "data_science_languages = [\n",
    "    \"Python\",\n",
    "    \"R\",\n",
    "    \"SQL\",\n",
    "    \"Julia\"\n",
    "]\n",
    "print(data_science_languages)"
   ]
  },
  {
   "cell_type": "markdown",
   "id": "ff795dad-f0d8-46ed-b979-20b3ac93a078",
   "metadata": {},
   "source": [
    "Data Science Tools and Ecosystem"
   ]
  },
  {
   "cell_type": "markdown",
   "id": "f6de0777-ba71-401f-a7a2-f9874ec33bff",
   "metadata": {},
   "source": [
    "Data Science Tools and Ecosystem\n"
   ]
  },
  {
   "cell_type": "markdown",
   "id": "5c164361-eaf8-4940-b369-811a4b1710bb",
   "metadata": {},
   "source": [
    "#Some of the popular languages that Data Scientists use are:\n",
    "1. python\n",
    "2. R \n",
    "3. SQL"
   ]
  },
  {
   "cell_type": "markdown",
   "id": "a5786fa2-4eca-4dde-b7eb-22090fee7cfe",
   "metadata": {},
   "source": [
    "#Some of the popular languages that Data Scientists use are:\n",
    "1.python\n",
    "2.R\n",
    "3.SQL\n"
   ]
  },
  {
   "cell_type": "markdown",
   "id": "e0b162b7-d3e5-40db-b954-fc84ec53ae5f",
   "metadata": {},
   "source": [
    "#Some of the commonly used libraries used by Data Scientists include:\n",
    "\n",
    "    1.Pandas\n",
    "    2.Numpy\n",
    "    3.sckit-learn\n",
    "    4.matplotlib"
   ]
  },
  {
   "cell_type": "markdown",
   "id": "71cbe5cb-ed4d-4e82-9da0-1a99a1d95d90",
   "metadata": {},
   "source": [
    "| Data Science Tools   |\n",
    "|----------------------|\n",
    "| Jupyter Notebook     |\n",
    "| RStudio              |\n",
    "| VS Code with Python  |"
   ]
  },
  {
   "cell_type": "markdown",
   "id": "0e12baf7-58b0-4ee5-9040-0092215f8dc9",
   "metadata": {},
   "source": [
    "Below are a few examples of evaluating arithmetic expressions in Python"
   ]
  },
  {
   "cell_type": "code",
   "execution_count": 5,
   "id": "e08d9f42-ee32-43f8-97f1-9ed623f89947",
   "metadata": {},
   "outputs": [
    {
     "data": {
      "text/plain": [
       "17"
      ]
     },
     "execution_count": 5,
     "metadata": {},
     "output_type": "execute_result"
    }
   ],
   "source": [
    "#This a simple arithmetic expression to mutiply then add integers\n",
    "(3*4)+5"
   ]
  },
  {
   "cell_type": "code",
   "execution_count": 6,
   "id": "bb221c82-db08-4c1d-918f-730d859bad2d",
   "metadata": {},
   "outputs": [
    {
     "data": {
      "text/plain": [
       "3.3333333333333335"
      ]
     },
     "execution_count": 6,
     "metadata": {},
     "output_type": "execute_result"
    }
   ],
   "source": [
    "#This will convert 200 minutes to hours by diving by 60\n",
    "minutes = 200\n",
    "hours = minutes / 60\n",
    "hours"
   ]
  },
  {
   "cell_type": "markdown",
   "id": "379063b0-8003-4c6f-9b08-3747ff3093c7",
   "metadata": {},
   "source": [
    "List popular languages for Data Science.\n",
    "1.python \n",
    "2.R\n",
    "3.julia"
   ]
  },
  {
   "cell_type": "markdown",
   "id": "4dc41a59-c7ad-47c5-b5ca-7105ca21cfa1",
   "metadata": {},
   "source": [
    "**Objectives:**\n",
    "\n",
    "In this notebook, we covered the following key objectives:\n",
    "\n",
    "- Introducing arithmetic expressions and their usage.\n",
    "- Listing popular languages for Data Science.\n"
   ]
  },
  {
   "cell_type": "markdown",
   "id": "69ca2577-6469-4b5e-a4f5-7994cd1ae919",
   "metadata": {},
   "source": [
    "## Author\n",
    "\n",
    "Aboli"
   ]
  },
  {
   "cell_type": "code",
   "execution_count": null,
   "id": "6481bd30-aa4a-4521-9bf4-c51cf9011b6d",
   "metadata": {},
   "outputs": [],
   "source": []
  }
 ],
 "metadata": {
  "kernelspec": {
   "display_name": "Python 3 (ipykernel)",
   "language": "python",
   "name": "python3"
  },
  "language_info": {
   "codemirror_mode": {
    "name": "ipython",
    "version": 3
   },
   "file_extension": ".py",
   "mimetype": "text/x-python",
   "name": "python",
   "nbconvert_exporter": "python",
   "pygments_lexer": "ipython3",
   "version": "3.11.7"
  }
 },
 "nbformat": 4,
 "nbformat_minor": 5
}
